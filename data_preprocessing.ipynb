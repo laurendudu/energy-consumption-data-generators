{
 "cells": [
  {
   "cell_type": "markdown",
   "metadata": {},
   "source": [
    "# Data Preprocessing : Creation of the Daily and the Hourly Datasets"
   ]
  },
  {
   "cell_type": "code",
   "execution_count": null,
   "metadata": {},
   "outputs": [],
   "source": [
    "#libraries we need\n",
    "import datetime\n",
    "import pandas as pd\n",
    "import numpy as np\n",
    "import matplotlib as mpl\n",
    "mpl.rcParams['figure.dpi'] = 100\n",
    "import matplotlib.pyplot as plt\n",
    "import seaborn as sns\n",
    "import statsmodels.api as sm\n"
   ]
  },
  {
   "cell_type": "code",
   "execution_count": null,
   "metadata": {},
   "outputs": [],
   "source": [
    "# import base dataset\n",
    "data = pd.read_csv('data/household_data_1min_singleindex.csv')"
   ]
  },
  {
   "cell_type": "markdown",
   "metadata": {},
   "source": [
    "#### industrial_components.csv"
   ]
  },
  {
   "cell_type": "code",
   "execution_count": null,
   "metadata": {},
   "outputs": [],
   "source": [
    "industrial = data.filter(like='industrial3')\n",
    "industrial['time'] = data.filter(like='cet_cest_timestamp')\n",
    "industrial = industrial.drop(columns = ['DE_KN_industrial3_compressor', 'DE_KN_industrial3_ev', 'DE_KN_industrial3_grid_import', 'DE_KN_industrial3_ventilation', 'DE_KN_industrial3_pv_facade', 'DE_KN_industrial3_pv_roof'])\n",
    "industrial.replace(0, np.nan, inplace=True)\n",
    "industrial = industrial.dropna()"
   ]
  },
  {
   "cell_type": "code",
   "execution_count": null,
   "metadata": {},
   "outputs": [],
   "source": [
    "industrial_clean = pd.DataFrame()\n",
    "\n",
    "industrial_clean['rooms'] = industrial.filter(like='area').sum(axis=1)\n",
    "industrial_clean['machine'] = industrial.filter(like='machine').sum(axis=1)\n",
    "industrial_clean['cooling'] = industrial.filter(like='cooling').sum(axis=1)\n",
    "industrial_clean['appliances'] = industrial[['DE_KN_industrial3_refrigerator', 'DE_KN_industrial3_dishwasher']].sum(axis = 1)\n",
    "industrial_clean['time'] = industrial['time']"
   ]
  },
  {
   "cell_type": "code",
   "execution_count": null,
   "metadata": {},
   "outputs": [],
   "source": [
    "industrial_clean.to_csv('data/industrial_components.csv', index = False)"
   ]
  },
  {
   "cell_type": "markdown",
   "metadata": {},
   "source": [
    "#### industrial_total.csv"
   ]
  },
  {
   "cell_type": "code",
   "execution_count": null,
   "metadata": {},
   "outputs": [],
   "source": [
    "industrial = data.filter(like='industrial3')\n",
    "industrial = industrial.drop(columns = ['DE_KN_industrial3_ev', 'DE_KN_industrial3_grid_import', 'DE_KN_industrial3_pv_facade', 'DE_KN_industrial3_pv_roof'])\n",
    "industrial['time'] = data.filter(like = 'cet_cest_timestamp')\n",
    "industrial.replace(0, np.nan, inplace=True)\n",
    "industrial = industrial.dropna()"
   ]
  },
  {
   "cell_type": "code",
   "execution_count": null,
   "metadata": {},
   "outputs": [],
   "source": [
    "consumption = pd.DataFrame()\n",
    "consumption['cumulative'] = industrial.drop(columns = 'time').sum(axis = 1)\n",
    "consumption['difference'] = consumption['cumulative'].diff()\n",
    "consumption['time'] = industrial['time']"
   ]
  },
  {
   "cell_type": "code",
   "execution_count": null,
   "metadata": {},
   "outputs": [],
   "source": [
    "consumption.to_csv('data/industrial_total.csv', index = False)"
   ]
  },
  {
   "cell_type": "markdown",
   "metadata": {},
   "source": [
    "#### daily_data.csv"
   ]
  },
  {
   "cell_type": "code",
   "execution_count": null,
   "metadata": {},
   "outputs": [],
   "source": [
    "#dataset we need : industrial_components\n",
    "df = pd.read_csv('data/industrial_components.csv')"
   ]
  },
  {
   "cell_type": "code",
   "execution_count": null,
   "metadata": {},
   "outputs": [],
   "source": [
    "#we split the date into 4 columns\n",
    "time1 = df['time'].str.split('-', expand=True)\n",
    "time1.columns = ['Year', 'Month', 'Time']\n",
    "time2 = time1['Time'].str.split('T', expand=True)\n",
    "time2.columns = ['Day', 'Time']\n",
    "time2['Time'] = time2['Time'].str.replace(r'\\D+0100', '')\n",
    "del time1['Time']\n",
    "time_merged = pd.merge(time1, time2, left_index=True, right_index=True)"
   ]
  },
  {
   "cell_type": "code",
   "execution_count": null,
   "metadata": {},
   "outputs": [],
   "source": [
    "#we create a dataset called df2 that will add columns about the date on the df1 dataset\n",
    "df2 = pd.merge(df, time_merged, left_index=True, right_index=True)\n",
    "df2['Time'] = df2['Time'].str.replace(r'\\D+0200', '')\n",
    "df2['time'] = df2['time'].str.replace(r'\\D+0200', '')\n",
    "df2['time'] = df2['time'].str.replace(r'\\D+0100', '')"
   ]
  },
  {
   "cell_type": "code",
   "execution_count": null,
   "metadata": {},
   "outputs": [],
   "source": [
    "#we do the same with the column time to have a column with the date\n",
    "tip = df2['time'].str.split('T', expand=True)\n",
    "tip.columns = ['Date', 'Hour']\n",
    "del tip['Hour']"
   ]
  },
  {
   "cell_type": "code",
   "execution_count": null,
   "metadata": {},
   "outputs": [],
   "source": [
    "#we add a column with the day name of the date\n",
    "df2 = pd.merge(df2, tip, left_index=True, right_index=True)\n",
    "df2['date'] = pd.to_datetime(df2['Date'], errors='coerce')\n",
    "del df2['Date']\n",
    "df2['Day_of_week'] = df2['date'].dt.day_name()"
   ]
  },
  {
   "cell_type": "code",
   "execution_count": null,
   "metadata": {},
   "outputs": [],
   "source": [
    "#we create a dataset called df3 that will take only the value of the consumption\n",
    "df3 = df2.drop(['time','Year', 'Month', 'Day', 'Time', 'date'], axis = 1)\n",
    "\n",
    "df3['rooms_diff'] = df3['rooms'].diff()\n",
    "df3['machine_diff'] = df3['machine'].diff()\n",
    "df3['cooling_diff'] = df3['cooling'].diff()\n",
    "df3['appliances_diff'] = df3['appliances'].diff()\n",
    "\n",
    "df3['rooms_diff'] = df3['rooms_diff'].fillna(0)\n",
    "df3['machine_diff'] = df3['machine_diff'].fillna(0)\n",
    "df3['cooling_diff'] = df3['cooling_diff'].fillna(0)\n",
    "df3['appliances_diff'] = df3['appliances_diff'].fillna(0)"
   ]
  },
  {
   "cell_type": "code",
   "execution_count": null,
   "metadata": {},
   "outputs": [],
   "source": [
    "#we create the dataset with the consumption for each day (1440 minutes per day)\n",
    "\n",
    "parameters = {'rooms_diff': 'sum', \n",
    "'machine_diff': 'sum', \n",
    "'cooling_diff': 'sum', \n",
    "'appliances_diff': 'sum'}\n",
    "\n",
    "daily_data = df3.groupby(df3.index // 1440).agg(parameters)\n",
    "\n",
    "daily_data['rooms_diff_mean'] = daily_data['rooms_diff']/1440\n",
    "daily_data['machine_diff_mean'] = daily_data['machine_diff']/1440\n",
    "daily_data['cooling_diff_mean'] = daily_data['cooling_diff']/1440\n",
    "daily_data['appliances_diff_mean'] = daily_data['appliances_diff']/1440\n",
    "\n",
    "new_date = df2['date'].iloc[1439:]\n",
    "daily_data['date'] = new_date.unique()\n",
    "daily_data['Day_of_week'] = daily_data['date'].dt.day_name()"
   ]
  },
  {
   "cell_type": "code",
   "execution_count": null,
   "metadata": {},
   "outputs": [],
   "source": [
    "daily_data.to_csv('data/daily_data.csv')"
   ]
  },
  {
   "cell_type": "markdown",
   "metadata": {},
   "source": [
    "#### hourly_data.csv"
   ]
  },
  {
   "cell_type": "code",
   "execution_count": null,
   "metadata": {},
   "outputs": [],
   "source": [
    "##we create the dataset with the consumption for each day (60 minutes per hour)\n",
    "\n",
    "parameter2 = {'rooms_diff': 'sum', \n",
    "'machine_diff': 'sum', \n",
    "'cooling_diff': 'sum', \n",
    "'appliances_diff': 'sum'}\n",
    "hourly_data = df3.groupby(df3.index // 60).agg(parameter2)\n",
    "\n",
    "hourly_data['rooms_diff_mean'] = hourly_data['rooms_diff']/60\n",
    "hourly_data['machine_diff_mean'] = hourly_data['machine_diff']/60\n",
    "hourly_data['cooling_diff_mean'] = hourly_data['cooling_diff']/60\n",
    "hourly_data['appliances_diff_mean'] = hourly_data['appliances_diff']/60"
   ]
  },
  {
   "cell_type": "code",
   "execution_count": null,
   "metadata": {},
   "outputs": [],
   "source": [
    "hourly_data.to_csv('data/hourly_data.csv')"
   ]
  }
 ],
 "metadata": {
  "interpreter": {
   "hash": "485035c5b2a6f2b50dc2dc5ca51aeeb931032fbc9adc2e30c7c528d6bf8a9176"
  },
  "kernelspec": {
   "display_name": "Python 3.8.12 64-bit ('base': conda)",
   "language": "python",
   "name": "python3"
  },
  "language_info": {
   "codemirror_mode": {
    "name": "ipython",
    "version": 3
   },
   "file_extension": ".py",
   "mimetype": "text/x-python",
   "name": "python",
   "nbconvert_exporter": "python",
   "pygments_lexer": "ipython3",
   "version": "3.8.12"
  },
  "orig_nbformat": 4
 },
 "nbformat": 4,
 "nbformat_minor": 2
}
