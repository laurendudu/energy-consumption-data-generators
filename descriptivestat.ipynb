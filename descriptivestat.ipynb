{
 "cells": [
  {
   "cell_type": "markdown",
   "metadata": {},
   "source": [
    "# Data Preprocessing and Time Series Analysis"
   ]
  },
  {
   "cell_type": "code",
   "execution_count": null,
   "metadata": {},
   "outputs": [],
   "source": [
    "# import libraries\n",
    "import pandas as pd\n",
    "import numpy as np\n",
    "import matplotlib as mpl\n",
    "mpl.rcParams['figure.dpi'] = 100\n",
    "import matplotlib.pyplot as plt\n",
    "import missingno as msno"
   ]
  },
  {
   "cell_type": "code",
   "execution_count": null,
   "metadata": {},
   "outputs": [],
   "source": [
    "# import base dataset\n",
    "data = pd.read_csv('household_data_1min_singleindex.csv')"
   ]
  },
  {
   "cell_type": "code",
   "execution_count": null,
   "metadata": {},
   "outputs": [],
   "source": [
    "# get all the columns concerning the building industrial3\n",
    "industrial = data.filter(like='industrial3')\n",
    "# get timestamp\n",
    "industrial['time'] = data.filter(like='cet_cest_timestamp')"
   ]
  },
  {
   "cell_type": "code",
   "execution_count": null,
   "metadata": {},
   "outputs": [],
   "source": [
    "# drop 3 columns that don't take our interest after reading the documentation\n",
    "industrial = industrial.drop(columns = ['DE_KN_industrial3_compressor', 'DE_KN_industrial3_ev', 'DE_KN_industrial3_ventilation'])"
   ]
  },
  {
   "cell_type": "markdown",
   "metadata": {},
   "source": [
    "### Visualization of Missing Values"
   ]
  },
  {
   "cell_type": "code",
   "execution_count": null,
   "metadata": {},
   "outputs": [],
   "source": [
    "# the data is cumulative so any 0 would be considered a missing value\n",
    "industrial.replace(0, np.nan, inplace=True)\n",
    "msno.matrix(industrial)\n",
    "plt.title('Representation of Missing Values for the \"Industrial 3\" Building', size = 50)"
   ]
  },
  {
   "cell_type": "markdown",
   "metadata": {},
   "source": [
    "### Study of Grid Import"
   ]
  },
  {
   "cell_type": "markdown",
   "metadata": {},
   "source": [
    "The goal of this section was to see if grid import was greater than the sum of all the other columns, since it represented the imported energy from the grid."
   ]
  },
  {
   "cell_type": "code",
   "execution_count": null,
   "metadata": {},
   "outputs": [],
   "source": [
    "# creata a dataset to study grid import and replace 0 by NA\n",
    "grid_import = data.filter(like = 'industrial3')\n",
    "grid_import.replace(0, np.nan, inplace=True)\n",
    "# drop rows containing empty entries\n",
    "grid_import = grid_import.dropna()"
   ]
  },
  {
   "cell_type": "code",
   "execution_count": null,
   "metadata": {},
   "outputs": [],
   "source": [
    "# create dataset to compare consumption and energy imports \n",
    "components = pd.DataFrame()\n",
    "# column 'all': remove columns that are not considered as consumptions\n",
    "components['all'] = grid_import.drop(columns = ['DE_KN_industrial3_grid_import', 'DE_KN_industrial3_pv_facade', 'DE_KN_industrial3_pv_roof']).sum(axis = 1)\n",
    "# column 'energy': keep columns that are considered as energy production/import\n",
    "components['energy'] = grid_import[['DE_KN_industrial3_grid_import', 'DE_KN_industrial3_pv_facade', 'DE_KN_industrial3_pv_roof']].sum(axis = 1)"
   ]
  },
  {
   "cell_type": "code",
   "execution_count": null,
   "metadata": {},
   "outputs": [],
   "source": [
    "# look at the difference to compare since the values are cumulative and don't start at the same time\n",
    "components.diff(axis = 0).head()"
   ]
  },
  {
   "cell_type": "code",
   "execution_count": null,
   "metadata": {},
   "outputs": [],
   "source": [
    "# get percentage of data where energy import is greater than consumption\n",
    "print(np.round((sum(components.diff(axis = 0)['energy'] - components.diff(axis = 0)['all'] > 0) / len(components)) * 100 ), \"%\")"
   ]
  },
  {
   "cell_type": "markdown",
   "metadata": {},
   "source": [
    "Conclusion: grid import is almost the sum of all other energy consuptions, but is still under for some iterations. In 76% of the data, grid import is greater than all energy consumption."
   ]
  },
  {
   "cell_type": "markdown",
   "metadata": {},
   "source": [
    "### Descriptive Statistics"
   ]
  },
  {
   "cell_type": "markdown",
   "metadata": {},
   "source": [
    "In this section we aggregate the data by hour, day, week and month. We take a look at the mean of the difference between each cumulative entry."
   ]
  },
  {
   "cell_type": "code",
   "execution_count": null,
   "metadata": {},
   "outputs": [],
   "source": [
    "# read clean dataset (the creation can be found in preprocessing.ipynb)\n",
    "industrial_clean = pd.read_csv('industrial_components.csv')"
   ]
  },
  {
   "cell_type": "code",
   "execution_count": null,
   "metadata": {},
   "outputs": [],
   "source": [
    "# compute difference since the values are cumulative\n",
    "differences = industrial_clean.drop(columns = 'time').diff(axis = 0)\n",
    "# get timestamp\n",
    "differences['time'] = industrial_clean['time']\n",
    "# create data frame with an reset index\n",
    "index = differences.reset_index().drop('index', axis = 1)"
   ]
  },
  {
   "cell_type": "code",
   "execution_count": null,
   "metadata": {},
   "outputs": [],
   "source": [
    "# manually remove rows to start at a precise hour (12:00:00 here)\n",
    "index_start = index.tail(-60+23)"
   ]
  },
  {
   "cell_type": "code",
   "execution_count": null,
   "metadata": {},
   "outputs": [],
   "source": [
    "index_start.head()"
   ]
  },
  {
   "cell_type": "markdown",
   "metadata": {},
   "source": [
    "### Hourly Study"
   ]
  },
  {
   "cell_type": "code",
   "execution_count": null,
   "metadata": {},
   "outputs": [],
   "source": [
    "# create a dictionary to specify we compute the mean for each column\n",
    "dic_mean = {'rooms': 'mean', \n",
    "'machine': 'mean', \n",
    "'cooling': 'mean', \n",
    "'appliances': 'mean'}"
   ]
  },
  {
   "cell_type": "code",
   "execution_count": null,
   "metadata": {},
   "outputs": [],
   "source": [
    "# create a dataset per hour\n",
    "# we specify that we average over every 60 values (60 min in an hour)\n",
    "hourly = index_start.groupby(index_start.index // 60).agg(dic_mean) \n",
    "hourly['hour'] = hourly.index + 1"
   ]
  },
  {
   "cell_type": "code",
   "execution_count": null,
   "metadata": {},
   "outputs": [],
   "source": [
    "mpl.rcParams['figure.dpi'] = 125\n",
    "hourly.head(500).plot(x = 'hour',\n",
    "                        subplots = True, \n",
    "                        layout = (2, 2), \n",
    "                        title = 'Mean Minutely Consumption per Hour in kW/h\\nin an Industrial Building', \n",
    "                        ylim = [-0.2,1.5],\n",
    "                        xlabel = \"Hour\",\n",
    "                        ylabel = \"kW/h\",\n",
    "                        sharey = True)\n",
    "plt.tight_layout()"
   ]
  },
  {
   "cell_type": "markdown",
   "metadata": {},
   "source": [
    "### Daily Study"
   ]
  },
  {
   "cell_type": "code",
   "execution_count": null,
   "metadata": {},
   "outputs": [],
   "source": [
    "# create a dataset per hour\n",
    "# we specify that we average over every 1440 values (1440 min in a day)\n",
    "daily = index_start.groupby(index_start.index // 1440).agg(dic_mean)\n",
    "daily['day'] = daily.index + 1"
   ]
  },
  {
   "cell_type": "code",
   "execution_count": null,
   "metadata": {},
   "outputs": [],
   "source": [
    "mpl.rcParams['figure.dpi'] = 125\n",
    "daily.head(200).plot(x = 'day',\n",
    "                        subplots = True, \n",
    "                        layout = (2, 2), \n",
    "                        title = 'Mean Minutely Consumption per Day in kW/h\\nin an Industrial Building', \n",
    "                        ylim = [-0.2,1.5],\n",
    "                        xlabel = \"Day\",\n",
    "                        ylabel = \"kW/h\",\n",
    "                        sharey = True)\n",
    "\n",
    "plt.tight_layout()"
   ]
  },
  {
   "cell_type": "markdown",
   "metadata": {},
   "source": [
    "### Weekly Study"
   ]
  },
  {
   "cell_type": "code",
   "execution_count": null,
   "metadata": {},
   "outputs": [],
   "source": [
    "# create a dataset per hour\n",
    "# we specify that we average over every 10080 values (10080 min in an week)\n",
    "weekly = index_start.groupby(index_start.index // 10080).agg(dic_mean)\n",
    "weekly['week'] = weekly.index + 1"
   ]
  },
  {
   "cell_type": "code",
   "execution_count": null,
   "metadata": {},
   "outputs": [],
   "source": [
    "mpl.rcParams['figure.dpi'] = 125\n",
    "weekly.plot(x = 'week',\n",
    "            subplots = True, \n",
    "            layout = (2, 2), \n",
    "            title = 'Mean Minutely Consumption per Week in kW/h\\nin an Industrial Building', \n",
    "            ylim=[-0.2,1.5],\n",
    "            xlabel = \"Week\",\n",
    "            ylabel = \"kW/h\",\n",
    "            sharey = True)\n",
    "plt.tight_layout()"
   ]
  },
  {
   "cell_type": "markdown",
   "metadata": {},
   "source": [
    "### Monthly Study"
   ]
  },
  {
   "cell_type": "code",
   "execution_count": null,
   "metadata": {},
   "outputs": [],
   "source": [
    "# create a dataset per hour\n",
    "# we specify that we average over every 43800 values (43800 min in a month)\n",
    "monthly = index_start.groupby(index_start.index // 43800).agg(dic_mean)\n",
    "monthly['month'] = monthly.index + 1"
   ]
  },
  {
   "cell_type": "code",
   "execution_count": null,
   "metadata": {},
   "outputs": [],
   "source": [
    "mpl.rcParams['figure.dpi'] = 125\n",
    "monthly.head(250).plot(x = 'month',\n",
    "                        subplots = True, \n",
    "                        layout = (2, 2), \n",
    "                        title = 'Mean Minutely Consumption per Month in kW/h\\nin an Industrial Building', \n",
    "                        ylim=[-0.2,1.5],\n",
    "                        xlabel = \"Month\",\n",
    "                        ylabel = \"kW/h\",\n",
    "                        sharey = True)\n",
    "plt.tight_layout()"
   ]
  }
 ],
 "metadata": {
  "interpreter": {
   "hash": "39c3c7b00f11cfbea41adfb138cdbddcab88cebfc120315037060b42807ae923"
  },
  "kernelspec": {
   "display_name": "Python 3.9.7 64-bit",
   "language": "python",
   "name": "python3"
  },
  "language_info": {
   "codemirror_mode": {
    "name": "ipython",
    "version": 3
   },
   "file_extension": ".py",
   "mimetype": "text/x-python",
   "name": "python",
   "nbconvert_exporter": "python",
   "pygments_lexer": "ipython3",
   "version": "3.9.7"
  },
  "orig_nbformat": 4
 },
 "nbformat": 4,
 "nbformat_minor": 2
}
